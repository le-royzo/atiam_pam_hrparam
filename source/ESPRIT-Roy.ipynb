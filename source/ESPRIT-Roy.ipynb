{
 "cells": [
  {
   "cell_type": "code",
   "execution_count": 3,
   "metadata": {},
   "outputs": [],
   "source": [
    "import matplotlib.pyplot as plt\n",
    "from mpl_toolkits.mplot3d import Axes3D\n",
    "import sounddevice as sd\n",
    "\n",
    "from copy import deepcopy\n",
    "from math import ceil, exp, atan, pi, cos, sin\n",
    "#import mdct\n",
    "\n",
    "import scipy\n",
    "import scipy.signal\n",
    "from scipy import signal\n",
    "from scipy.io.wavfile import write\n",
    "from scipy.linalg import hankel\n",
    "from scipy.linalg import hankel\n",
    "from scipy.signal import lfilter\n",
    "\n",
    "\n",
    "from matplotlib import cm\n",
    "from matplotlib.ticker import LinearLocator, FormatStrFormatter\n",
    "\n",
    "\n",
    "import pylab as p\n",
    "import mpl_toolkits.mplot3d.axes3d as p3\n",
    "\n",
    "import matplotlib.pyplot as plt\n",
    "import numpy as np\n",
    "\n",
    "import wave"
   ]
  },
  {
   "cell_type": "markdown",
   "metadata": {},
   "source": [
    "> ## ESPRIT"
   ]
  },
  {
   "cell_type": "code",
   "execution_count": 9,
   "metadata": {},
   "outputs": [],
   "source": [
    "def ESPRIT(x : np.ndarray, n : int, K : int):\n",
    "    # input\n",
    "        # x: input signal\n",
    "        # n: number of lines in the Hankel matrix S\n",
    "        # and signal space basis W\n",
    "        # K: order of signal\n",
    "\n",
    "        # (n-K : noise space dimension)\n",
    "\n",
    "    # output\n",
    "        # delta: array of damping factors\n",
    "        # f: array of frequencies\n",
    "\n",
    "    N = len(x)          # signal's length\n",
    "    l = N - n + 1       # number of columns of the Hankel matrix\n",
    "                        # Not needed for the 'hankel' function but used in the formula of R_XX  \n",
    "\n",
    "    X = hankel(x[:n], x[n-1:])      # Hankel matrix\n",
    "\n",
    "    R_XX = 1/l * X @ X.conj().T             # correlation matrix\n",
    "    U1, Lambda, U2 = np.linalg.svd(R_XX)\n",
    "    W = U1[:n, :K]                          # signal space matrix\n",
    "    \n",
    "    W_down = W[:-1]\n",
    "    W_up = W[1:]\n",
    "    phi = (np.linalg.pinv(W_down)) @ W_up\n",
    "    eigenvalues, eigenvectors = np.linalg.eig(phi)\n",
    "    \n",
    "    delta = np.log(np.abs(eigenvalues))         # damping factors\n",
    "    f = (1/(2*np.pi)) * np.angle(eigenvalues)   # frequencies\n",
    "\n",
    "    return delta, f\n"
   ]
  },
  {
   "cell_type": "markdown",
   "metadata": {},
   "source": [
    "> ## Least Squares"
   ]
  },
  {
   "cell_type": "code",
   "execution_count": 46,
   "metadata": {},
   "outputs": [],
   "source": [
    "def LeastSquares(x : np.ndarray, delta : np.ndarray, f : np.ndarray):\n",
    "    # input\n",
    "        # x: input signal\n",
    "        # delta: array of damping factors\n",
    "        # f: array of frequencies\n",
    "\n",
    "    # output\n",
    "        # alpha: array of complex amplitudes\n",
    "        # a: array of real amplitudes\n",
    "        # phi: array of initial phases\n",
    "\n",
    "    N = len(x)                  # signal's length\n",
    "    t = np.arange(N)            # array of discrete times\n",
    "    s = delta + 2j*np.pi*f      # log of the pole\n",
    "    VN = np.exp(np.outer(t,s))  # Vandermonde matrix of dimension N\n",
    "    \n",
    "    alpha = np.linalg.pinv(VN)@x\n",
    "    a = abs(alpha)\n",
    "    phi = np.angle(alpha)\n",
    "    \n",
    "    return alpha, a, phi"
   ]
  },
  {
   "cell_type": "markdown",
   "metadata": {},
   "source": [
    "> ## Energy"
   ]
  },
  {
   "cell_type": "code",
   "execution_count": 55,
   "metadata": {},
   "outputs": [],
   "source": [
    "def Energy(x: np.ndarray, delta: np.ndarray, a: np.ndarray):\n",
    "    # input\n",
    "        # x: input signal\n",
    "        # delta: array of damping factors\n",
    "        # a: array of real amplitudes\n",
    "\n",
    "    # output\n",
    "        # EdB: array of energies\n",
    "\n",
    "    \n",
    "    N = len(x)              # signal's length\n",
    "    times = np.arange(N)    # array of discrete times\n",
    "\n",
    "    K = len(delta)          # number of sinusoids\n",
    "    E = np.zeros(K)\n",
    "\n",
    "    for k in range(K):      # calculating the energy of each sinusoid\n",
    "        e_k = 0\n",
    "        for t in times:\n",
    "            e_k += np.exp(2*delta[k]*t)     # the contribution of delta\n",
    "        E[k] = a[k]**2 * e_k                # the energy of the kth sinusoid\n",
    "\n",
    "    Emax = max(E)\n",
    "    EdB = 10*np.log(E/Emax)     # Energy in dB\n",
    "\n",
    "    return EdB\n"
   ]
  },
  {
   "cell_type": "markdown",
   "metadata": {},
   "source": [
    "> ## Signal Synthesis"
   ]
  },
  {
   "cell_type": "markdown",
   "metadata": {},
   "source": [
    "> Synthesis Function(s)"
   ]
  },
  {
   "cell_type": "code",
   "execution_count": 56,
   "metadata": {},
   "outputs": [],
   "source": [
    "def Synthesis(N: int, delta: np.ndarray, f: np.ndarray, a: np.ndarray, phi : np.ndarray, noisy = False):\n",
    "    # N: length of the signal (discrete)\n",
    "    # delta: array of damping factors\n",
    "    # f: array of normalized frequencies\n",
    "    # a: array of real amplitudes\n",
    "    # phi: array of initial phases\n",
    "    # noisy: set to True if a noisy signal is desired \n",
    "\n",
    "    t = range(N)                    #time range\n",
    "    logz = delta + 1j*2*np.pi*f     #log of poles\n",
    "    alpha = a*np.exp(1j*phi)        #complex amplitudes\n",
    "    x = np.sum(np.outer(alpha, np.ones(N))*np.exp(np.outer(logz, t)), axis=0)  #noisless signal (ESM)\n",
    "    if noisy == False:\n",
    "        s = x\n",
    "    else:   #synthesizing noise\n",
    "        Ex = np.real(np.sum(np.abs(x)**2))/N\n",
    "        b = np.random.normal(size=N) + 1j*np.random.normal(size=N)\n",
    "        Eb = np.real(np.sum(np.abs(b)**2))/N\n",
    "        b = b*np.sqrt(Ex/Eb)*10**(-noisy/20) #This is from TP HR. Isn't noisy equal to 1 in this case? Maybe this was originally meant to be a general formula without an if statement?\n",
    "        s = x+b     #noisy signal\n",
    "    return s"
   ]
  },
  {
   "cell_type": "code",
   "execution_count": 57,
   "metadata": {},
   "outputs": [],
   "source": [
    "# TO BE VERIFIED\n",
    "# I think it is better to use the Synthesis function from the TP\n",
    "# since it can synthesise noisy signals as well\n",
    "# The commented lines are used for plotting the signal and the spectrum.\n",
    "# In my opinion they should not be in this function.\n",
    "def synthesis(time, delta, f, a, phi):\n",
    "    K = len(delta)\n",
    "    #N = len(time)\n",
    "    signal = np.zeros(1, N)\n",
    "    #Te = time[1] - time[0]\n",
    "    #fe = 1/Te\n",
    "    #Nfft = 2**nextpow2(N)\n",
    "    #freq = np.arange(-fe/2, fe/2, fe/Nfft)\n",
    "    for i in range(K):\n",
    "        signal_i = a[i]*np.multiply(np.exp(delta[i]*time), np.cos(2*np.pi*time*f[i] + phi[i]))  #PS: This function uses the real ESM not the complex one.\n",
    "        signal += signal_i\n",
    "\n",
    "    return signal\n"
   ]
  },
  {
   "cell_type": "markdown",
   "metadata": {},
   "source": [
    "> Synthesised Signal"
   ]
  },
  {
   "cell_type": "code",
   "execution_count": 58,
   "metadata": {},
   "outputs": [
    {
     "data": {
      "text/plain": [
       "[<matplotlib.lines.Line2D at 0x2b5990bb5b0>]"
      ]
     },
     "execution_count": 58,
     "metadata": {},
     "output_type": "execute_result"
    },
    {
     "data": {
      "image/png": "[encoded data removed]",
      "text/plain": [
       "<Figure size 432x288 with 1 Axes>"
      ]
     },
     "metadata": {
      "needs_background": "light"
     },
     "output_type": "display_data"
    }
   ],
   "source": [
    "N_synth = 63\n",
    "\n",
    "f0_synth = 1/4\n",
    "f_synth = np.array([f0_synth, f0_synth+(1/N_synth)])\n",
    "\n",
    "a_synth = np.array([1, 10])\n",
    "\n",
    "delta_synth = np.array([0, -0.05])\n",
    "\n",
    "phi_synth = np.array([1.5, 0.5])\n",
    "\n",
    "# synthesised signal\n",
    "x_synth = Synthesis(N_synth, delta_synth, f_synth, a_synth, phi_synth)\n",
    "\n",
    "plt.plot(np.real(x0))"
   ]
  },
  {
   "cell_type": "markdown",
   "metadata": {},
   "source": [
    "> Verification"
   ]
  },
  {
   "cell_type": "code",
   "execution_count": 59,
   "metadata": {},
   "outputs": [
    {
     "name": "stdout",
     "output_type": "stream",
     "text": [
      "[-5.0000000e-02 -4.4408921e-16] [0.26587302 0.25      ] [8.77582562+4.79425539j 0.0707372 +0.99749499j] [10.  1.] [0.5 1.5] [  0.         -28.12365928]\n"
     ]
    }
   ],
   "source": [
    "delta_an, f_an = ESPRIT(x_synth, 32, 2)\n",
    "\n",
    "alpha_an, a_an, phi_an = LeastSquares(x_synth, delta_an, f_an)\n",
    "\n",
    "EdB_an = Energy(x_synth, delta_an, a_an)\n",
    "\n",
    "print(delta_an, f_an, alpha_an, a_an, phi_an, EdB_an)\n"
   ]
  },
  {
   "cell_type": "markdown",
   "metadata": {},
   "source": [
    "> ## Adaptative Algorithm"
   ]
  },
  {
   "cell_type": "code",
   "execution_count": 60,
   "metadata": {},
   "outputs": [],
   "source": [
    "def adaptative(x_full : np.ndarray, window_length : float, hop_size : float, sampling_rate : int, n : int, K : int):\n",
    "    # input\n",
    "        # x_full: the full-length input signal\n",
    "        # window_length: the window size (in seconds)\n",
    "        # hop_size: the hop size (in seconds)\n",
    "        # n: number of lines in the Hankel matrix S\n",
    "        # and signal space basis W\n",
    "        # K: the number of sinusoids\n",
    "\n",
    "    N_full = len(x_full)                    # the length of the signal (in samples)\n",
    "    N = int(window_length*sampling_rate)    # window size (in samples)\n",
    "    h = int(hop_size*sampling_rate)         # hope size (in samples)\n",
    "    I = int((N_full-N)/h)\n",
    "\n",
    "    delta, f, alpha, a, phi, EdB = np.zeros(I)\n",
    "\n",
    "    for i in range(I):\n",
    "\n",
    "        x_i = x_full[i:i+h]     # ith truncated signal\n",
    "\n",
    "        delta[i], f[i] = ESPRIT(x_i, n, K)\n",
    "        alpha[i], a[i], phi[i] = LeastSquares(x_i, delta[i], f[i])\n",
    "        EdB[i] = Energy(x[i], delta[i], a[i])\n",
    "\n",
    "    return delta, f, alpha, a, phi, EdB"
   ]
  },
  {
   "cell_type": "markdown",
   "metadata": {},
   "source": [
    "> ## To do: \n",
    "(Hopefully by Tuesday 14:00)\n",
    "\n",
    "- synthesise a signal with variant frequencies and test the adaptative algorithm\n",
    "- add more visualisations\n",
    "\n",
    "- pretreat the signal\n",
    "\n",
    "◮ Colored noise\n",
    "> smoothing the periodogram (with a moving average filter)\n",
    "> whitening the filter with an FIR (which normalises the smoothed periodogram)\n",
    "\n",
    "◮ Unknown number of sinusoids\n",
    "> Use the energy function to decide which sinusoids to keep (the others are considered noise and discarded)\n",
    "> ESTER ? apply it to the whole signal or to the chunks in the adaptive iteration\n",
    "\n",
    "\n",
    "◮ High number of sinusoids (calculation time)\n",
    "> Bank filters with downsampling ? details"
   ]
  },
  {
   "cell_type": "markdown",
   "metadata": {},
   "source": []
  }
 ],
 "metadata": {
  "interpreter": {
   "hash": "80859ac7f5135aec96a8117f1cea8980d346d5e72554f5e1713cf8726ca979d1"
  },
  "kernelspec": {
   "display_name": "Python 3.8.8 64-bit ('base': conda)",
   "language": "python",
   "name": "python3"
  },
  "language_info": {
   "codemirror_mode": {
    "name": "ipython",
    "version": 3
   },
   "file_extension": ".py",
   "mimetype": "text/x-python",
   "name": "python",
   "nbconvert_exporter": "python",
   "pygments_lexer": "ipython3",
   "version": "3.8.8"
  },
  "orig_nbformat": 4
 },
 "nbformat": 4,
 "nbformat_minor": 2
}
